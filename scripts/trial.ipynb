{
 "cells": [
  {
   "cell_type": "code",
   "execution_count": 1,
   "metadata": {},
   "outputs": [],
   "source": [
    "import base64\n",
    "\n",
    "username = \"admin\"\n",
    "password = \"admin\"\n",
    "\n",
    "username_password = f\"{username}:{password}\"\n",
    "string_bytes = username_password.encode(\"ascii\")\n",
    "\n",
    "base64_bytes = base64.b64encode(string_bytes)\n",
    "base64_string = base64_bytes.decode(\"ascii\")\n",
    "\n",
    "headers = {\"Authorization\": f\"Basic {base64_string}\"}"
   ]
  },
  {
   "cell_type": "code",
   "execution_count": 2,
   "metadata": {},
   "outputs": [
    {
     "name": "stdout",
     "output_type": "stream",
     "text": [
      "{'Authorization': 'Basic YWRtaW46YWRtaW4='}\n"
     ]
    }
   ],
   "source": [
    "print(headers)"
   ]
  }
 ],
 "metadata": {
  "kernelspec": {
   "display_name": ".venv",
   "language": "python",
   "name": "python3"
  },
  "language_info": {
   "codemirror_mode": {
    "name": "ipython",
    "version": 3
   },
   "file_extension": ".py",
   "mimetype": "text/x-python",
   "name": "python",
   "nbconvert_exporter": "python",
   "pygments_lexer": "ipython3",
   "version": "3.7.17"
  }
 },
 "nbformat": 4,
 "nbformat_minor": 2
}
